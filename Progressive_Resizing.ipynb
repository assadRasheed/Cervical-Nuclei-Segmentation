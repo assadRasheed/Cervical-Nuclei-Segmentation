{
 "cells": [
  {
   "cell_type": "code",
   "execution_count": null,
   "id": "30468023",
   "metadata": {},
   "outputs": [],
   "source": [
    "import os\n",
    "import cv2\n",
    "\n",
    "def resize_images(input_folder, output_folder, size):\n",
    "    \"\"\"\n",
    "    Resizes all images in the input folder to the specified size and stores them in the output folder.\n",
    "\n",
    "    Args:\n",
    "        input_folder (str): The path to the input folder.\n",
    "        output_folder (str): The path to the output folder.\n",
    "        size (tuple): The desired size of the images (width, height).\n",
    "    \"\"\"\n",
    "\n",
    "    for filename in os.listdir(input_folder):\n",
    "        image = cv2.imread(os.path.join(input_folder, filename))\n",
    "        resized_image = cv2.resize(image, size)\n",
    "        cv2.imwrite(os.path.join(output_folder, filename), resized_image)\n",
    "\n",
    "if __name__ == \"__main__\":\n",
    "    input_folder = \"medical_images\"\n",
    "    output_folder_1 = \"resize1\"\n",
    "    output_folder_2 = \"resize2\"\n",
    "    output_folder_3 = \"resize3\"\n",
    "    size_1 = (225, 225)\n",
    "    size_2 = (256, 256)\n",
    "    size_3 = (512, 512)\n",
    "\n",
    "    with open(\"progress.txt\", \"w\") as f:\n",
    "        f.write(\"Resizing images to 225x225...\")\n",
    "        resize_images(input_folder, output_folder_1, size_1)\n",
    "        f.write(\"Done\\n\")\n",
    "\n",
    "        f.write(\"Resizing images to 256x256...\")\n",
    "        resize_images(input_folder, output_folder_2, size_2)\n",
    "        f.write(\"Done\\n\")\n",
    "\n",
    "        f.write(\"Resizing images to 512x512...\")\n",
    "        resize_images(input_folder, output_folder_3, size_3)\n",
    "        f.write(\"Done\\n\")"
   ]
  }
 ],
 "metadata": {
  "kernelspec": {
   "display_name": "Python 3 (ipykernel)",
   "language": "python",
   "name": "python3"
  },
  "language_info": {
   "codemirror_mode": {
    "name": "ipython",
    "version": 3
   },
   "file_extension": ".py",
   "mimetype": "text/x-python",
   "name": "python",
   "nbconvert_exporter": "python",
   "pygments_lexer": "ipython3",
   "version": "3.9.7"
  }
 },
 "nbformat": 4,
 "nbformat_minor": 5
}
